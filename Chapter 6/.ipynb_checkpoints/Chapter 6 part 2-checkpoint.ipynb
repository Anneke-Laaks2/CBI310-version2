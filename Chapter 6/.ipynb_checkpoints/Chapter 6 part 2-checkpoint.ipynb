{
 "cells": [
  {
   "cell_type": "markdown",
   "id": "965f96df",
   "metadata": {},
   "source": [
    "# Chapter 6 part 2: More on continuous operation\n",
    "\n",
    "For chapter 7 to chapter 9 we will be working exclusively with continuous operation. It is important to fully understand the implications of steady state. Let's use the ethanol example from chapter 5, where the stoicheometric matrix was already set up. In this exercise you will be required to perform the calculations, although some pointers and answers will be given.\n",
    "\n",
    "Let's have a look at how a continously stirred tank reactor ([CSTR](https://en.wikipedia.org/wiki/Continuous_stirred-tank_reactor)) works:\n",
    "\n",
    "<img src=\"cstr.png\" width=\"400\" />"
   ]
  },
  {
   "cell_type": "markdown",
   "id": "d6ce8e2c",
   "metadata": {},
   "source": [
    "Very important to understand that the liquid volume is not changing with time and that the **outlet concentration is the same as the concentration within the reactor**. When it comes to biological CSTRs (like all our examples) it is very important to realise that the microbial biomass in the reactor is responsible for all the reactions taking place. We thus need microbial biomass ($C_X$) for the reactor to work. Since the microbial biomass concentration in the reactor is the same as the microbial biomass concentration in the outlet, we are **constantly removing biomass from the reactor**. We typically don't add any microbial biomass in the feedstream and accordingly new microbial biomass has to grow to compensate for the lost biomass in the exit stream. At steady state the $C_X$ in the bioreactor will be constant, this implies that microbial biomass grows as fast it is removed from the reactor. Let's have a look at the equations again to see what this implies: "
   ]
  },
  {
   "cell_type": "markdown",
   "id": "346d63bf",
   "metadata": {},
   "source": [
    "Remember the cmol balance over the CSTR:\n",
    "\n",
    "\\begin{align*}\n",
    "\\frac{dC_i}{dt} &= D(C^F_i - C_i) + r_i C_X \\\\\n",
    "\\end{align*}\n",
    "\n",
    "Also remember waht dilution rate is:\n",
    "\n",
    "$$D=\\frac{Q}{V}$$\n",
    "\n",
    "Let's do the balance over the microbial cells:\n",
    "\n",
    "\\begin{align*}\n",
    "\\frac{dC_X}{dt} &= D(C^F_X - C_X) + r_X C_X \\\\\n",
    "\\end{align*}\n",
    "\n",
    "At steady state $\\frac{dC_X}{dt}=0$ while typically no cells are fed ($C^F_X=0$), accordingly:\n",
    "\n",
    "$$0=-D C_X + r_X C_X$$\n",
    "\n",
    "Don't forget that $r_X=\\mu$ and accordingly:\n",
    "\n",
    "$$D=\\mu$$\n",
    "\n",
    "This is quite astonishing if you think about it. $D$ is a variable that can be controlled by adjusting flowrate or volume and thus we are able to control the growth rate $\\mu$ in the reactor.\n",
    "\n",
    "Let's now have a look at the growth rate function. In its simplest form we will only have a Monod term:\n",
    "\n",
    "$$\\mu=\\mu_{max} \\left[\\frac{Cs}{K_M^{\\mu}+Cs} \\right]  $$\n",
    "\n",
    "Since we can control $\\mu$ with $D$ and the fact that $K_M^{\\mu}$ is a constant implies that only one $C_S$ value will solve for the equation above. This is quite astonishing as well, this implies than irrespective of the amount of substrate we feed ($C_{So}$) the outlet concentration of substrate $C_S$ will be the same. One might wonder how this is possible and you will see in your answers below that the biomass concentration will be higher if the substrate feed concentration is higher. This is clear from the steady state substrate balance:\n",
    "\n",
    "\\begin{align*}\n",
    "0 &= D(C^F_S - C_S) + r_S C_X \\\\\n",
    "\\end{align*}\n",
    "\n",
    "Since $C_S$ is fixed by $D$ and $r_S$ is only a function of $C_S$, this implies that $C_X$ must be higher. Can you see this?"
   ]
  },
  {
   "cell_type": "markdown",
   "id": "5e12e4db",
   "metadata": {},
   "source": [
    "Let's do some calculations. You can use the supplied matrix for your calculations."
   ]
  },
  {
   "cell_type": "code",
   "execution_count": 1,
   "id": "9d6c2d28",
   "metadata": {},
   "outputs": [],
   "source": [
    "import numpy as np\n",
    "import matplotlib.pyplot as plt\n",
    "from scipy.integrate import odeint\n",
    "import pandas"
   ]
  },
  {
   "cell_type": "code",
   "execution_count": 2,
   "id": "3a18114a",
   "metadata": {},
   "outputs": [],
   "source": [
    "S1 = np.matrix(pandas.read_excel('matrixe.xlsx'))"
   ]
  },
  {
   "cell_type": "markdown",
   "id": "a8b89207",
   "metadata": {},
   "source": [
    "Using the following constants below:"
   ]
  },
  {
   "cell_type": "code",
   "execution_count": 4,
   "id": "c8219cc4",
   "metadata": {},
   "outputs": [],
   "source": [
    "mumax=0.08\n",
    "thetamax=0.2\n",
    "Ks=0.0008\n",
    "Ksm=0.0008\n",
    "Csf=0.05 #cmol/L substrate in feed"
   ]
  },
  {
   "cell_type": "markdown",
   "id": "4c26af69",
   "metadata": {},
   "source": [
    "a) If the initial glucose concentration in the vessel is 0.04 cmol/L and the microbial biomass is at 0.01 cmol/L, determine the unsteady behaviour of the system if operated at a $D=0.05$. You should get this:\n",
    "\n",
    "<img src=\"ans1.png\" width=\"600\" />\n"
   ]
  },
  {
   "cell_type": "markdown",
   "id": "928f6981",
   "metadata": {},
   "source": [
    "b) What is the conversion of glucose? [97.3%]"
   ]
  },
  {
   "cell_type": "markdown",
   "id": "7858d12f",
   "metadata": {},
   "source": [
    "c) Determine the exact steady state with fsolve. [0.00133333, 0.00377261, 0.02980362]"
   ]
  },
  {
   "cell_type": "markdown",
   "id": "d63ac9fa",
   "metadata": {},
   "source": [
    "d) Repeat the calculation at $D=0.07$ 1/h\n",
    "\n",
    "<img src=\"ans2.png\" width=\"600\" />"
   ]
  },
  {
   "cell_type": "markdown",
   "id": "31cb85ed",
   "metadata": {},
   "source": [
    "e) What is the conversion of glucose? [88.7%]\n"
   ]
  },
  {
   "cell_type": "markdown",
   "id": "78822d9e",
   "metadata": {},
   "source": [
    "f) Repeat the calculation at $D=0.09$ 1/h. What is the conversion? [0%] What is happening?"
   ]
  },
  {
   "cell_type": "markdown",
   "id": "eac7355b",
   "metadata": {},
   "source": [
    "g) Go back to the condition in (a), change $C_{Sf}$ to 0.15 cmol/l. What is $C_S$? [0.0013] Does this make sense?\n"
   ]
  },
  {
   "cell_type": "markdown",
   "id": "21a3bb96",
   "metadata": {},
   "source": [
    "h) What is the conversion in (g)? [99.1%]. Why is is higher than before?"
   ]
  },
  {
   "cell_type": "markdown",
   "id": "437be98b",
   "metadata": {},
   "source": [
    "i) How does $C_X$ in (g) compare to $C_X$ in (a). [0.0115 vs 0.0038 cmol/L]\n"
   ]
  },
  {
   "cell_type": "markdown",
   "id": "efd9e91f",
   "metadata": {},
   "source": [
    "j) Go back to the condition in (a) and change $\\theta_{max}$ to 0.5 $\\frac{mol \\, ATP}{cmol \\,X \\cdot h}$. [0.00133333, 0.00201518, 0.03103382]. Why is $C_X$ and $C_E$ different?"
   ]
  },
  {
   "cell_type": "markdown",
   "id": "bcd1ce06",
   "metadata": {},
   "source": [
    "k) Create a loop and solve for $C_S,C_X,C_E$ at all operational D values. You should get something like this:\n",
    "\n",
    "<img src=\"ans3.png\" width=\"600\" />"
   ]
  },
  {
   "cell_type": "code",
   "execution_count": null,
   "id": "9e2b97e2",
   "metadata": {},
   "outputs": [],
   "source": []
  }
 ],
 "metadata": {
  "kernelspec": {
   "display_name": "Python 3 (ipykernel)",
   "language": "python",
   "name": "python3"
  },
  "language_info": {
   "codemirror_mode": {
    "name": "ipython",
    "version": 3
   },
   "file_extension": ".py",
   "mimetype": "text/x-python",
   "name": "python",
   "nbconvert_exporter": "python",
   "pygments_lexer": "ipython3",
   "version": "3.9.13"
  }
 },
 "nbformat": 4,
 "nbformat_minor": 5
}
